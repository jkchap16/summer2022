{
 "cells": [
  {
   "cell_type": "code",
   "execution_count": 3,
   "id": "5c1924c1",
   "metadata": {},
   "outputs": [],
   "source": [
    "import numpy as np\n",
    "import pandas as pd\n",
    "import geopandas as gpd\n",
    "import matplotlib.pyplot as plt\n",
    "import seaborn as sns\n",
    "from splot.mapping import vba_choropleth, vba_legend, mapclassify_bin\n",
    "from shapely.geometry import Point, Polygon, LineString\n",
    "import libpysal.weights as sw \n",
    "from esda.moran import Moran_Local, Moran\n",
    "from splot.esda import lisa_cluster, plot_local_autocorrelation, plot_moran\n",
    "import warnings\n",
    "import census\n",
    "import us\n",
    "warnings.simplefilter(\"ignore\") "
   ]
  },
  {
   "cell_type": "code",
   "execution_count": 2,
   "id": "ce33a691",
   "metadata": {},
   "outputs": [],
   "source": [
    "c = census.Census('bbf0f9cd4d3e9a9bb4c295578e2e6cb2765ced0d', year=2020)"
   ]
  },
  {
   "cell_type": "code",
   "execution_count": 23,
   "id": "04ab2239",
   "metadata": {},
   "outputs": [
    {
     "data": {
      "text/plain": [
       "[{'NAME': 'Maryland', 'B19013_001E': 87063.0, 'state': '24'}]"
      ]
     },
     "execution_count": 23,
     "metadata": {},
     "output_type": "execute_result"
    }
   ],
   "source": [
    "#test\n",
    "c.acs5.state(('NAME', 'B19013_001E'), us.states.MD.fips)"
   ]
  },
  {
   "cell_type": "code",
   "execution_count": 29,
   "id": "e6fa1574",
   "metadata": {},
   "outputs": [],
   "source": [
    "#access census data\n",
    "#variable names: total, white alone, black alone, asian alone, median household income\n",
    "#consider ratio of income to poverty level? B17002\n",
    "acs_list = c.acs5.state_county_tract(('NAME', 'B02001_001E','B02001_002E', 'B02001_002E', 'B02001_005E','B19013_001E'), us.states.NY.fips, '005', census.ALL)"
   ]
  },
  {
   "cell_type": "code",
   "execution_count": 26,
   "id": "8b75c7d3",
   "metadata": {},
   "outputs": [],
   "source": [
    "nyc_acs = pd.DataFrame(acs_list)"
   ]
  },
  {
   "cell_type": "code",
   "execution_count": 37,
   "id": "1e2cc874",
   "metadata": {},
   "outputs": [],
   "source": [
    "codes={'manhattan':'061', 'staten_island':'085','bronx':'005', 'queens':'081', 'brooklyn':'047'}\n",
    "list_of_lists=[]\n",
    "for i in codes:\n",
    "    acs_list = c.acs5.state_county_tract(('NAME', 'B02001_001E','B02001_002E', 'B02001_003E', 'B02001_005E','B19013_001E'), us.states.NY.fips, codes[i], census.ALL)\n",
    "    list_of_lists.append(acs_list)\n",
    "nyc_acs=pd.concat([pd.DataFrame(j) for j in list_of_lists])  "
   ]
  },
  {
   "cell_type": "code",
   "execution_count": 38,
   "id": "2b19a6b6",
   "metadata": {},
   "outputs": [],
   "source": [
    "nyc_acs.columns=['name', 'total','white_alone', 'black_alone', 'asian_alone', 'med_income', 'state', 'county', 'tract']\n",
    "nyc_acs['GEOID']=nyc_acs['state']+nyc_acs['county']+nyc_acs['tract']\n",
    "nyc_acs['percent_white'] = 100* (nyc_acs['white_alone'].astype('int')/nyc_acs['total'].astype('int'))\n",
    "nyc_acs['percent_black'] = 100* (nyc_acs['black_alone'].astype('int')/nyc_acs['total'].astype('int'))\n",
    "nyc_acs['percent_asian'] = 100* (nyc_acs['asian_alone'].astype('int')/nyc_acs['total'].astype('int'))"
   ]
  },
  {
   "cell_type": "code",
   "execution_count": 39,
   "id": "856c06dd",
   "metadata": {},
   "outputs": [
    {
     "data": {
      "text/html": [
       "<div>\n",
       "<style scoped>\n",
       "    .dataframe tbody tr th:only-of-type {\n",
       "        vertical-align: middle;\n",
       "    }\n",
       "\n",
       "    .dataframe tbody tr th {\n",
       "        vertical-align: top;\n",
       "    }\n",
       "\n",
       "    .dataframe thead th {\n",
       "        text-align: right;\n",
       "    }\n",
       "</style>\n",
       "<table border=\"1\" class=\"dataframe\">\n",
       "  <thead>\n",
       "    <tr style=\"text-align: right;\">\n",
       "      <th></th>\n",
       "      <th>name</th>\n",
       "      <th>total</th>\n",
       "      <th>white_alone</th>\n",
       "      <th>black_alone</th>\n",
       "      <th>asian_alone</th>\n",
       "      <th>med_income</th>\n",
       "      <th>state</th>\n",
       "      <th>county</th>\n",
       "      <th>tract</th>\n",
       "      <th>GEOID</th>\n",
       "      <th>percent_white</th>\n",
       "      <th>percent_black</th>\n",
       "      <th>percent_asian</th>\n",
       "    </tr>\n",
       "  </thead>\n",
       "  <tbody>\n",
       "    <tr>\n",
       "      <th>0</th>\n",
       "      <td>Census Tract 165, New York County, New York</td>\n",
       "      <td>6674.0</td>\n",
       "      <td>5425.0</td>\n",
       "      <td>148.0</td>\n",
       "      <td>469.0</td>\n",
       "      <td>184691.0</td>\n",
       "      <td>36</td>\n",
       "      <td>061</td>\n",
       "      <td>016500</td>\n",
       "      <td>36061016500</td>\n",
       "      <td>81.285586</td>\n",
       "      <td>2.217561</td>\n",
       "      <td>7.027270</td>\n",
       "    </tr>\n",
       "    <tr>\n",
       "      <th>1</th>\n",
       "      <td>Census Tract 166, New York County, New York</td>\n",
       "      <td>6002.0</td>\n",
       "      <td>2824.0</td>\n",
       "      <td>859.0</td>\n",
       "      <td>658.0</td>\n",
       "      <td>47778.0</td>\n",
       "      <td>36</td>\n",
       "      <td>061</td>\n",
       "      <td>016600</td>\n",
       "      <td>36061016600</td>\n",
       "      <td>47.050983</td>\n",
       "      <td>14.311896</td>\n",
       "      <td>10.963012</td>\n",
       "    </tr>\n",
       "    <tr>\n",
       "      <th>2</th>\n",
       "      <td>Census Tract 167, New York County, New York</td>\n",
       "      <td>6058.0</td>\n",
       "      <td>5236.0</td>\n",
       "      <td>36.0</td>\n",
       "      <td>480.0</td>\n",
       "      <td>203711.0</td>\n",
       "      <td>36</td>\n",
       "      <td>061</td>\n",
       "      <td>016700</td>\n",
       "      <td>36061016700</td>\n",
       "      <td>86.431165</td>\n",
       "      <td>0.594256</td>\n",
       "      <td>7.923407</td>\n",
       "    </tr>\n",
       "    <tr>\n",
       "      <th>3</th>\n",
       "      <td>Census Tract 168, New York County, New York</td>\n",
       "      <td>5189.0</td>\n",
       "      <td>1721.0</td>\n",
       "      <td>1915.0</td>\n",
       "      <td>355.0</td>\n",
       "      <td>27222.0</td>\n",
       "      <td>36</td>\n",
       "      <td>061</td>\n",
       "      <td>016800</td>\n",
       "      <td>36061016800</td>\n",
       "      <td>33.166313</td>\n",
       "      <td>36.904991</td>\n",
       "      <td>6.841395</td>\n",
       "    </tr>\n",
       "    <tr>\n",
       "      <th>4</th>\n",
       "      <td>Census Tract 169, New York County, New York</td>\n",
       "      <td>8272.0</td>\n",
       "      <td>6895.0</td>\n",
       "      <td>113.0</td>\n",
       "      <td>537.0</td>\n",
       "      <td>131097.0</td>\n",
       "      <td>36</td>\n",
       "      <td>061</td>\n",
       "      <td>016900</td>\n",
       "      <td>36061016900</td>\n",
       "      <td>83.353482</td>\n",
       "      <td>1.366054</td>\n",
       "      <td>6.491779</td>\n",
       "    </tr>\n",
       "  </tbody>\n",
       "</table>\n",
       "</div>"
      ],
      "text/plain": [
       "                                          name   total  white_alone  \\\n",
       "0  Census Tract 165, New York County, New York  6674.0       5425.0   \n",
       "1  Census Tract 166, New York County, New York  6002.0       2824.0   \n",
       "2  Census Tract 167, New York County, New York  6058.0       5236.0   \n",
       "3  Census Tract 168, New York County, New York  5189.0       1721.0   \n",
       "4  Census Tract 169, New York County, New York  8272.0       6895.0   \n",
       "\n",
       "   black_alone  asian_alone  med_income state county   tract        GEOID  \\\n",
       "0        148.0        469.0    184691.0    36    061  016500  36061016500   \n",
       "1        859.0        658.0     47778.0    36    061  016600  36061016600   \n",
       "2         36.0        480.0    203711.0    36    061  016700  36061016700   \n",
       "3       1915.0        355.0     27222.0    36    061  016800  36061016800   \n",
       "4        113.0        537.0    131097.0    36    061  016900  36061016900   \n",
       "\n",
       "   percent_white  percent_black  percent_asian  \n",
       "0      81.285586       2.217561       7.027270  \n",
       "1      47.050983      14.311896      10.963012  \n",
       "2      86.431165       0.594256       7.923407  \n",
       "3      33.166313      36.904991       6.841395  \n",
       "4      83.353482       1.366054       6.491779  "
      ]
     },
     "execution_count": 39,
     "metadata": {},
     "output_type": "execute_result"
    }
   ],
   "source": [
    "nyc_acs.head()"
   ]
  },
  {
   "cell_type": "markdown",
   "id": "90ea22bb",
   "metadata": {},
   "source": [
    "***NDVI, NDWI, Paved Surface indices"
   ]
  },
  {
   "cell_type": "code",
   "execution_count": null,
   "id": "3991239f",
   "metadata": {},
   "outputs": [],
   "source": [
    "#import raster files"
   ]
  }
 ],
 "metadata": {
  "kernelspec": {
   "display_name": "Python 3 (ipykernel)",
   "language": "python",
   "name": "python3"
  },
  "language_info": {
   "codemirror_mode": {
    "name": "ipython",
    "version": 3
   },
   "file_extension": ".py",
   "mimetype": "text/x-python",
   "name": "python",
   "nbconvert_exporter": "python",
   "pygments_lexer": "ipython3",
   "version": "3.9.7"
  }
 },
 "nbformat": 4,
 "nbformat_minor": 5
}
